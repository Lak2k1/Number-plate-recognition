{
 "cells": [
  {
   "cell_type": "code",
   "execution_count": 1,
   "id": "3d1ab9e4",
   "metadata": {},
   "outputs": [],
   "source": [
    "import os\n",
    "import shutil\n",
    "import random"
   ]
  },
  {
   "cell_type": "markdown",
   "id": "7cb56ef1",
   "metadata": {},
   "source": [
    "Defining Image Path and Image annotations path"
   ]
  },
  {
   "cell_type": "code",
   "execution_count": 2,
   "id": "9c7d05ed",
   "metadata": {},
   "outputs": [],
   "source": [
    "img_path=r\"C:\\Users\\Lenovo\\Desktop\\anpr\\images\"\n",
    "annotation_path=r\"C:\\Users\\Lenovo\\Desktop\\anpr\\annotations\""
   ]
  },
  {
   "cell_type": "markdown",
   "id": "d9721103",
   "metadata": {},
   "source": [
    "Making folders for easy usage."
   ]
  },
  {
   "cell_type": "code",
   "execution_count": 4,
   "id": "cc277286",
   "metadata": {},
   "outputs": [],
   "source": [
    "train_path = r\"C:\\Users\\Lenovo\\Desktop\\anpr\\train\" \n",
    "test_path=r\"C:\\Users\\Lenovo\\Desktop\\anpr\\test\"\n",
    "train_img_path=r\"C:\\Users\\Lenovo\\Desktop\\anpr\\train\\images\" \n",
    "test_img_path=r\"C:\\Users\\Lenovo\\Desktop\\anpr\\test\\images\" \n",
    "train_annotation_path=r\"C:\\Users\\Lenovo\\Desktop\\anpr\\train\\annotations\" \n",
    "test_annotation_path=r\"C:\\Users\\Lenovo\\Desktop\\anpr\\test\\annotations\"\n",
    "p=[train_path,test_path,train_img_path,test_img_path,train_annotation_path,test_annotation_path]\n",
    "for path in p:\n",
    "    if not os.path.exists(path):\n",
    "        os.makedirs(path)"
   ]
  },
  {
   "cell_type": "markdown",
   "id": "112e532e",
   "metadata": {},
   "source": [
    "os.listdir gives a list of all the files in the path mentioned"
   ]
  },
  {
   "cell_type": "code",
   "execution_count": 5,
   "id": "fafbc548",
   "metadata": {},
   "outputs": [],
   "source": [
    "all_images=os.listdir(img_path)"
   ]
  },
  {
   "cell_type": "code",
   "execution_count": 7,
   "id": "fa3fe083",
   "metadata": {},
   "outputs": [],
   "source": [
    "all_annotations=os.listdir(annotation_path)"
   ]
  },
  {
   "cell_type": "markdown",
   "id": "3aaddb0f",
   "metadata": {},
   "source": [
    "Randomly select 80% of the images from img_path and paste it into train_img_path"
   ]
  },
  {
   "cell_type": "code",
   "execution_count": 9,
   "id": "0885ddda",
   "metadata": {},
   "outputs": [
    {
     "data": {
      "text/plain": [
       "346"
      ]
     },
     "execution_count": 9,
     "metadata": {},
     "output_type": "execute_result"
    }
   ],
   "source": [
    "train_num=int(len(all_images)*0.8)\n",
    "train_num"
   ]
  },
  {
   "cell_type": "code",
   "execution_count": 10,
   "id": "10326bf5",
   "metadata": {},
   "outputs": [],
   "source": [
    "randomly_selected_images=random.sample(all_images,train_num)"
   ]
  },
  {
   "cell_type": "code",
   "execution_count": 12,
   "id": "e24b29c8",
   "metadata": {},
   "outputs": [
    {
     "data": {
      "text/plain": [
       "['Cars212.png', 'Cars123.png', 'Cars168.png', 'Cars226.png', 'Cars338.png']"
      ]
     },
     "execution_count": 12,
     "metadata": {},
     "output_type": "execute_result"
    }
   ],
   "source": [
    "randomly_selected_images[:5:]"
   ]
  },
  {
   "cell_type": "markdown",
   "id": "28c4b06e",
   "metadata": {},
   "source": [
    "We can see these images are randomly selected"
   ]
  },
  {
   "cell_type": "markdown",
   "id": "bfe00a76",
   "metadata": {},
   "source": [
    "Copying 80% of images for training into train\\images folder"
   ]
  },
  {
   "cell_type": "code",
   "execution_count": 13,
   "id": "28be882f",
   "metadata": {},
   "outputs": [],
   "source": [
    "for files in randomly_selected_images:\n",
    "    source=os.path.join(img_path,files)\n",
    "    destination=os.path.join(train_img_path,files)\n",
    "    shutil.copy(source,destination)"
   ]
  },
  {
   "cell_type": "markdown",
   "id": "9fdf4d81",
   "metadata": {},
   "source": [
    "Copying the remaining 20% of images for training into test\\images folder"
   ]
  },
  {
   "cell_type": "code",
   "execution_count": 17,
   "id": "3981d535",
   "metadata": {},
   "outputs": [],
   "source": [
    "for files in all_images:\n",
    "    if files not in randomly_selected_images:\n",
    "        source=os.path.join(img_path,files)\n",
    "        destination=os.path.join(test_img_path,files)\n",
    "        shutil.copy(source,destination)\n"
   ]
  },
  {
   "cell_type": "markdown",
   "id": "999e473b",
   "metadata": {},
   "source": [
    "Copying the corresponding annotations into train and test folders"
   ]
  },
  {
   "cell_type": "code",
   "execution_count": 27,
   "id": "c2d288be",
   "metadata": {},
   "outputs": [],
   "source": [
    "for files in all_annotations:\n",
    "    file=files[:-4:]+\".png\"\n",
    "    source=os.path.join(annotation_path,files)\n",
    "    if file in os.listdir(os.path.join(train_img_path)):\n",
    "        destination=os.path.join(train_annotation_path,files)\n",
    "    else:\n",
    "        destination=os.path.join(test_annotation_path,files)\n",
    "    shutil.copy(source,destination)\n"
   ]
  },
  {
   "cell_type": "code",
   "execution_count": null,
   "id": "8b4cbb7c",
   "metadata": {},
   "outputs": [],
   "source": []
  }
 ],
 "metadata": {
  "kernelspec": {
   "display_name": "Python 3 (ipykernel)",
   "language": "python",
   "name": "python3"
  },
  "language_info": {
   "codemirror_mode": {
    "name": "ipython",
    "version": 3
   },
   "file_extension": ".py",
   "mimetype": "text/x-python",
   "name": "python",
   "nbconvert_exporter": "python",
   "pygments_lexer": "ipython3",
   "version": "3.9.16"
  }
 },
 "nbformat": 4,
 "nbformat_minor": 5
}
