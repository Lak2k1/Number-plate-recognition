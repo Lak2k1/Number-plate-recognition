{
 "cells": [
  {
   "cell_type": "markdown",
   "id": "c1970a4c",
   "metadata": {},
   "source": [
    "# Automatic Number Plate Recognition"
   ]
  },
  {
   "cell_type": "code",
   "execution_count": null,
   "id": "4ecef966",
   "metadata": {},
   "outputs": [],
   "source": [
    "import os\n",
    "\n",
    "CUSTOM_MODEL_NAME = 'my_ssd_mobnet' \n",
    "PRETRAINED_MODEL_NAME = 'ssd_mobilenet_v2_fpnlite_320x320_coco17_tpu-8'\n",
    "PRETRAINED_MODEL_URL = 'http://download.tensorflow.org/models/object_detection/tf2/20200711/ssd_mobilenet_v2_fpnlite_320x320_coco17_tpu-8.tar.gz'\n",
    "TF_RECORD_SCRIPT_NAME = 'generate_tfrecord.py'\n",
    "LABEL_MAP_NAME = 'label_map.pbtxt'\n",
    "\n",
    "p=r'C:\\tensorflow'\n",
    "\n",
    "paths = {\n",
    "    'WORKSPACE_PATH': os.path.join(p,'Tensorflow', 'workspace'),\n",
    "    'SCRIPTS_PATH': os.path.join(p,'Tensorflow','scripts'),\n",
    "    'APIMODEL_PATH': os.path.join(p,'Tensorflow','models'),\n",
    "    'ANNOTATION_PATH': os.path.join(p,'Tensorflow', 'workspace','annotations'),\n",
    "    'IMAGE_PATH': os.path.join(p,'Tensorflow', 'workspace','images'),\n",
    "    'MODEL_PATH': os.path.join(p,'Tensorflow', 'workspace','models'),\n",
    "    'PRETRAINED_MODEL_PATH': os.path.join(p,'Tensorflow', 'workspace','pre-trained-models'),\n",
    "    'CHECKPOINT_PATH': os.path.join(p,'Tensorflow', 'workspace','models',CUSTOM_MODEL_NAME), \n",
    "    'OUTPUT_PATH': os.path.join(p,'Tensorflow', 'workspace','models',CUSTOM_MODEL_NAME, 'export'), \n",
    "    'TFJS_PATH':os.path.join(p,'Tensorflow', 'workspace','models',CUSTOM_MODEL_NAME, 'tfjsexport'), \n",
    "    'TFLITE_PATH':os.path.join(p,'Tensorflow', 'workspace','models',CUSTOM_MODEL_NAME, 'tfliteexport'), \n",
    "    'PROTOC_PATH':os.path.join(p,'Tensorflow','protoc')\n",
    " }\n",
    "\n",
    "files = {\n",
    "    'PIPELINE_CONFIG':os.path.join(p,'Tensorflow', 'workspace','models', CUSTOM_MODEL_NAME, 'pipeline.config'),\n",
    "    'TF_RECORD_SCRIPT': os.path.join(paths['SCRIPTS_PATH'], TF_RECORD_SCRIPT_NAME), \n",
    "    'LABELMAP': os.path.join(paths['ANNOTATION_PATH'], LABEL_MAP_NAME)\n",
    "}"
   ]
  },
  {
   "cell_type": "code",
   "execution_count": null,
   "id": "8efa73f5",
   "metadata": {},
   "outputs": [],
   "source": [
    "for path in paths.values():\n",
    "    if not os.path.exists(path):\n",
    "        if os.name == 'posix':\n",
    "            !mkdir -p {path}\n",
    "        if os.name == 'nt':\n",
    "            !mkdir {path}"
   ]
  },
  {
   "cell_type": "code",
   "execution_count": null,
   "id": "9f61291c",
   "metadata": {},
   "outputs": [],
   "source": [
    "if os.name=='nt':\n",
    "    !pip install wget\n",
    "    import wget"
   ]
  },
  {
   "cell_type": "code",
   "execution_count": null,
   "id": "b1aeea7a",
   "metadata": {},
   "outputs": [],
   "source": [
    "if not os.path.exists(os.path.join(paths['APIMODEL_PATH'], 'research', 'object_detection')):\n",
    "    !git clone https://github.com/tensorflow/models {paths['APIMODEL_PATH']}"
   ]
  },
  {
   "cell_type": "code",
   "execution_count": null,
   "id": "2b5926f5",
   "metadata": {},
   "outputs": [],
   "source": [
    "%cd C:\\tensorflow\n",
    "\n",
    "# Install Tensorflow Object Detection \n",
    "if os.name=='posix':  \n",
    "    !apt-get install protobuf-compiler\n",
    "    !cd Tensorflow/models/research && protoc object_detection/protos/*.proto --python_out=. && cp object_detection/packages/tf2/setup.py . && python -m pip install . \n",
    "    \n",
    "if os.name=='nt':\n",
    "    url=\"https://github.com/protocolbuffers/protobuf/releases/download/v3.15.6/protoc-3.15.6-win64.zip\"\n",
    "    wget.download(url)\n",
    "    !move protoc-3.15.6-win64.zip {paths['PROTOC_PATH']}\n",
    "    !cd {paths['PROTOC_PATH']} && tar -xf protoc-3.15.6-win64.zip\n",
    "    os.environ['PATH'] += os.pathsep + os.path.abspath(os.path.join(paths['PROTOC_PATH'], 'bin'))   \n",
    "    !cd Tensorflow/models/research && protoc object_detection/protos/*.proto --python_out=. && copy object_detection\\\\packages\\\\tf2\\\\setup.py setup.py && python setup.py build && python setup.py install\n",
    "    !cd Tensorflow/models/research/slim && pip install -e . "
   ]
  },
  {
   "cell_type": "code",
   "execution_count": null,
   "id": "ed8acf3c",
   "metadata": {
    "scrolled": true
   },
   "outputs": [],
   "source": [
    "!pip list"
   ]
  },
  {
   "cell_type": "code",
   "execution_count": null,
   "id": "e7bd53d8",
   "metadata": {
    "scrolled": true
   },
   "outputs": [],
   "source": [
    "pip install numpy\n",
    "pip install google-api-python-client\n",
    "pip install protobuf==3.20.*\n",
    "pip install wrapt\n",
    "pip install opt_einsum\n",
    "pip install gast\n",
    "pip install astunparse\n",
    "pip install termcolor\n",
    "pip install flatbuffers\n",
    "pip install matplotlib\n",
    "pip install pyyaml\n",
    "pip install gin-config\n",
    "!pip install tensorflow-addons\n",
    "\n"
   ]
  },
  {
   "cell_type": "code",
   "execution_count": null,
   "id": "96f17abf",
   "metadata": {},
   "outputs": [],
   "source": [
    "pip install pyyaml\n"
   ]
  },
  {
   "cell_type": "code",
   "execution_count": null,
   "id": "290af7ab",
   "metadata": {
    "scrolled": true
   },
   "outputs": [],
   "source": [
    "VERIFICATION_SCRIPT = os.path.join(paths['APIMODEL_PATH'], 'research', 'object_detection', 'builders', 'model_builder_tf2_test.py')\n",
    "# Verify Installation\n",
    "!python {VERIFICATION_SCRIPT}"
   ]
  },
  {
   "cell_type": "code",
   "execution_count": null,
   "id": "4a082949",
   "metadata": {},
   "outputs": [],
   "source": [
    "%cd C:\\tensorflow\\Tensorflow\\models\\research\\build\\lib\n",
    "import object_detection"
   ]
  },
  {
   "cell_type": "code",
   "execution_count": null,
   "id": "896a1b73",
   "metadata": {},
   "outputs": [],
   "source": [
    "!pip list"
   ]
  },
  {
   "cell_type": "markdown",
   "id": "306e8650",
   "metadata": {},
   "source": [
    "Downloading the transfer learning model"
   ]
  },
  {
   "cell_type": "code",
   "execution_count": null,
   "id": "e82368db",
   "metadata": {},
   "outputs": [],
   "source": [
    "if os.name =='posix':\n",
    "    !wget {PRETRAINED_MODEL_URL}\n",
    "    !mv {PRETRAINED_MODEL_NAME+'.tar.gz'} {paths['PRETRAINED_MODEL_PATH']}\n",
    "    !cd {paths['PRETRAINED_MODEL_PATH']} && tar -zxvf {PRETRAINED_MODEL_NAME+'.tar.gz'}\n",
    "if os.name == 'nt':\n",
    "    wget.download(PRETRAINED_MODEL_URL)\n",
    "    !move {PRETRAINED_MODEL_NAME+'.tar.gz'} {paths['PRETRAINED_MODEL_PATH']}\n",
    "    !cd {paths['PRETRAINED_MODEL_PATH']} && tar -zxvf {PRETRAINED_MODEL_NAME+'.tar.gz'}"
   ]
  },
  {
   "cell_type": "code",
   "execution_count": null,
   "id": "b0210f93",
   "metadata": {},
   "outputs": [],
   "source": [
    "files['LABELMAP']"
   ]
  },
  {
   "cell_type": "markdown",
   "id": "52be2718",
   "metadata": {},
   "source": [
    "# Creating label map, and from it we assign labels"
   ]
  },
  {
   "cell_type": "code",
   "execution_count": null,
   "id": "630dfd1d",
   "metadata": {},
   "outputs": [],
   "source": [
    "%cd C:\\Users\\Lenovo\\Desktop\\anpr\\c\n",
    "labels = [{'name':'licence', 'id':1}]\n",
    "\n",
    "with open(files['LABELMAP'], 'w') as f:\n",
    "    for label in labels:\n",
    "        f.write('item { \\n')\n",
    "        f.write('\\tname:\\'{}\\'\\n'.format(label['name']))\n",
    "        f.write('\\tid:{}\\n'.format(label['id']))\n",
    "        f.write('}\\n')"
   ]
  },
  {
   "cell_type": "markdown",
   "id": "15fb4ae9",
   "metadata": {},
   "source": [
    "# Converts annotations in your images into a file format that can be used"
   ]
  },
  {
   "cell_type": "code",
   "execution_count": null,
   "id": "50f5eac7",
   "metadata": {},
   "outputs": [],
   "source": [
    "if not os.path.exists(files['TF_RECORD_SCRIPT']):\n",
    "    !git clone https://github.com/nicknochnack/GenerateTFRecord {paths['SCRIPTS_PATH']}\n"
   ]
  },
  {
   "cell_type": "code",
   "execution_count": null,
   "id": "50575583",
   "metadata": {},
   "outputs": [],
   "source": [
    "pip install pytz"
   ]
  },
  {
   "cell_type": "markdown",
   "id": "57ea275d",
   "metadata": {},
   "source": [
    "# These line of code creates a record file so that it can be loaded"
   ]
  },
  {
   "cell_type": "code",
   "execution_count": null,
   "id": "39c9bc65",
   "metadata": {},
   "outputs": [],
   "source": [
    "!python {files['TF_RECORD_SCRIPT']} -x {os.path.join(paths['IMAGE_PATH'], 'train')} -l {files['LABELMAP']} -o {os.path.join(paths['ANNOTATION_PATH'], 'train.record')} \n",
    "!python {files['TF_RECORD_SCRIPT']} -x {os.path.join(paths['IMAGE_PATH'], 'test')} -l {files['LABELMAP']} -o {os.path.join(paths['ANNOTATION_PATH'], 'test.record')} \n"
   ]
  },
  {
   "cell_type": "markdown",
   "id": "4aea6669",
   "metadata": {},
   "source": [
    "# Copy the model configuration file to training folder"
   ]
  },
  {
   "cell_type": "code",
   "execution_count": null,
   "id": "835abe06",
   "metadata": {},
   "outputs": [],
   "source": [
    "if os.name =='posix':\n",
    "    !cp {os.path.join(paths['PRETRAINED_MODEL_PATH'], PRETRAINED_MODEL_NAME, 'pipeline.config')} {os.path.join(paths['CHECKPOINT_PATH'])}\n",
    "if os.name == 'nt':\n",
    "    !copy {os.path.join(paths['PRETRAINED_MODEL_PATH'], PRETRAINED_MODEL_NAME, 'pipeline.config')} {os.path.join(paths['CHECKPOINT_PATH'])}\n"
   ]
  },
  {
   "cell_type": "markdown",
   "id": "eb8bc014",
   "metadata": {},
   "source": [
    "# Updating the config file for transfer learning according to our requirements"
   ]
  },
  {
   "cell_type": "code",
   "execution_count": null,
   "id": "012ce838",
   "metadata": {},
   "outputs": [],
   "source": [
    "import tensorflow as tf\n",
    "from object_detection.utils import config_util\n",
    "from object_detection.protos import pipeline_pb2\n",
    "from google.protobuf import text_format"
   ]
  },
  {
   "cell_type": "code",
   "execution_count": null,
   "id": "5eed353b",
   "metadata": {},
   "outputs": [],
   "source": [
    "files['PIPELINE_CONFIG']"
   ]
  },
  {
   "cell_type": "code",
   "execution_count": null,
   "id": "42dbe404",
   "metadata": {
    "scrolled": true
   },
   "outputs": [],
   "source": [
    "config = config_util.get_configs_from_pipeline_file(files['PIPELINE_CONFIG'])\n",
    "config"
   ]
  },
  {
   "cell_type": "code",
   "execution_count": null,
   "id": "f1bd4ddb",
   "metadata": {},
   "outputs": [],
   "source": [
    "pipeline_config = pipeline_pb2.TrainEvalPipelineConfig()\n",
    "with tf.io.gfile.GFile(files['PIPELINE_CONFIG'], \"r\") as f:                                                                                                                                                                                                                     \n",
    "    proto_str = f.read()                                                                                                                                                                                                                                          \n",
    "    text_format.Merge(proto_str, pipeline_config)  "
   ]
  },
  {
   "cell_type": "code",
   "execution_count": null,
   "id": "c17a547f",
   "metadata": {
    "scrolled": true
   },
   "outputs": [],
   "source": [
    "pipeline_config.model.ssd.num_classes = len(labels)\n",
    "pipeline_config.train_config.batch_size = 4\n",
    "pipeline_config.train_config.fine_tune_checkpoint = os.path.join(paths['PRETRAINED_MODEL_PATH'], PRETRAINED_MODEL_NAME, 'checkpoint', 'ckpt-0')\n",
    "pipeline_config.train_config.fine_tune_checkpoint_type = \"detection\"\n",
    "pipeline_config.train_input_reader.label_map_path= files['LABELMAP']\n",
    "pipeline_config.train_input_reader.tf_record_input_reader.input_path[:] = [os.path.join(paths['ANNOTATION_PATH'], 'train.record')]\n",
    "pipeline_config.eval_input_reader[0].label_map_path = files['LABELMAP']\n",
    "pipeline_config.eval_input_reader[0].tf_record_input_reader.input_path[:] = [os.path.join(paths['ANNOTATION_PATH'], 'test.record')]\n"
   ]
  },
  {
   "cell_type": "code",
   "execution_count": null,
   "id": "42118e67",
   "metadata": {},
   "outputs": [],
   "source": [
    "config_text = text_format.MessageToString(pipeline_config)                                                                                                                                                                                                        \n",
    "with tf.io.gfile.GFile(files['PIPELINE_CONFIG'], \"wb\") as f:                                                                                                                                                                                                                     \n",
    "    f.write(config_text)   "
   ]
  },
  {
   "cell_type": "markdown",
   "id": "71307ca7",
   "metadata": {},
   "source": [
    "# TRAINING THE MODEL"
   ]
  },
  {
   "cell_type": "code",
   "execution_count": null,
   "id": "d743122b",
   "metadata": {},
   "outputs": [],
   "source": [
    "paths['APIMODEL_PATH']"
   ]
  },
  {
   "cell_type": "code",
   "execution_count": null,
   "id": "c007675f",
   "metadata": {},
   "outputs": [],
   "source": [
    "TRAINING_SCRIPT=os.path.join(paths['APIMODEL_PATH'],'research','object_detection','model_main_tf2.py')"
   ]
  },
  {
   "cell_type": "code",
   "execution_count": null,
   "id": "6de4f1e4",
   "metadata": {},
   "outputs": [],
   "source": [
    "command = \"python {} --model_dir={} --pipeline_config_path={} --num_train_steps=2000\".format(TRAINING_SCRIPT, paths['CHECKPOINT_PATH'],files['PIPELINE_CONFIG'])\n",
    "print(command)"
   ]
  },
  {
   "cell_type": "markdown",
   "id": "baf50670",
   "metadata": {},
   "source": [
    "================================================================================================\n",
    "\n",
    "The number of steps define for how long the model will train"
   ]
  },
  {
   "cell_type": "code",
   "execution_count": null,
   "id": "50c780d9",
   "metadata": {},
   "outputs": [],
   "source": [
    "!(command)"
   ]
  },
  {
   "cell_type": "markdown",
   "id": "5cd67b68",
   "metadata": {},
   "source": [
    "# Prevent GPU complete consumption\n"
   ]
  },
  {
   "cell_type": "markdown",
   "id": "51375350",
   "metadata": {},
   "source": [
    "GPU shouldn't be consumed fully because easyOCR uses pytorch which is also graphic intensive alongside tensorflow"
   ]
  },
  {
   "cell_type": "code",
   "execution_count": null,
   "id": "3a262f28",
   "metadata": {},
   "outputs": [],
   "source": [
    "gpus = tf.config.list_physical_devices('GPU')\n",
    "if gpus:\n",
    "    try: \n",
    "        tf.config.experimental.set_virtual_device_configuration(\n",
    "            gpus[0], [tf.config.experimental.VirtualDeviceConfiguration(memory_limit=2048)])\n",
    "    except RunTimeError as e:\n",
    "        print(e)"
   ]
  },
  {
   "cell_type": "markdown",
   "id": "7d200a41",
   "metadata": {},
   "source": [
    "# Loading the trained model from checkpoint"
   ]
  },
  {
   "cell_type": "code",
   "execution_count": null,
   "id": "0bbb011f",
   "metadata": {},
   "outputs": [],
   "source": [
    "import os\n",
    "import tensorflow as tf\n",
    "from object_detection.utils import label_map_util, visualization_utils as viz_utils\n",
    "from object_detection.builders import model_builder\n",
    "from object_detection.utils import config_util"
   ]
  },
  {
   "cell_type": "code",
   "execution_count": null,
   "id": "b0469b4d",
   "metadata": {},
   "outputs": [],
   "source": [
    "# Load pipeline config and build a detection model\n",
    "configs = config_util.get_configs_from_pipeline_file(files['PIPELINE_CONFIG'])\n",
    "detection_model = model_builder.build(model_config=configs['model'], is_training=False)\n",
    "\n",
    "# Restore checkpoint\n",
    "ckpt = tf.compat.v2.train.Checkpoint(model=detection_model)\n",
    "ckpt.restore(os.path.join(paths['CHECKPOINT_PATH'], 'ckpt-3')).expect_partial()\n",
    "\n",
    "@tf.function\n",
    "def detect_fn(image):\n",
    "    image, shapes = detection_model.preprocess(image)\n",
    "    prediction_dict = detection_model.predict(image, shapes)\n",
    "    detections = detection_model.postprocess(prediction_dict, shapes)\n",
    "    return detections"
   ]
  },
  {
   "cell_type": "markdown",
   "id": "b0da77c4",
   "metadata": {},
   "source": [
    "# Detection on a single frame(image)"
   ]
  },
  {
   "cell_type": "code",
   "execution_count": null,
   "id": "3b4a1c9c",
   "metadata": {},
   "outputs": [],
   "source": [
    "import cv2\n",
    "import numpy as np\n",
    "import matplotlib.pyplot as plt\n",
    "%matplotlib inline"
   ]
  },
  {
   "cell_type": "code",
   "execution_count": null,
   "id": "fed448bf",
   "metadata": {},
   "outputs": [],
   "source": [
    "category_index=label_map_util.create_category_index_from_labelmap(files['LABELMAP'])"
   ]
  },
  {
   "cell_type": "code",
   "execution_count": null,
   "id": "cce0d3bb",
   "metadata": {},
   "outputs": [],
   "source": [
    "IMAGE_PATH=os.path.join(paths['IMAGE_PATH'],'test','Cars0.png')"
   ]
  },
  {
   "cell_type": "markdown",
   "id": "9798ca2f",
   "metadata": {},
   "source": [
    "The purpose of a TensorFlow tensor object is to represent multi-dimensional arrays or tensors of data, which are the basic building blocks of any machine learning model or data processing pipeline built with TensorFlow.\n",
    "\n",
    "A tensor is a generalization of a matrix, which can have an arbitrary number of dimensions. For example, a 1D tensor represents a vector, a 2D tensor represents a matrix, a 3D tensor represents a cube, and so on. A tensor can hold data of any data type, such as integers, floats, or strings, and can be used to represent a variety of data, including images, audio signals, text, and more."
   ]
  },
  {
   "cell_type": "code",
   "execution_count": null,
   "id": "08e401a6",
   "metadata": {},
   "outputs": [],
   "source": [
    "img=cv2.imread(IMAGE_PATH) #reads an image\n",
    "image_np=np.array(img) #converts the image into an array\n",
    "\n",
    "input_tensor=tf.convert_to_tensor(np.expand_dims(image_np,0),dtype=tf.float32) #creates a TensorFlow tensor object from a NumPy array\n",
    "detections=detect_fn(input_tensor)\n",
    "\n",
    "num_detections=int(detections.pop('num_detections'))\n",
    "detections={key: value[0, :num_detections].numpy()\n",
    "              for key, value in detections.items()}\n",
    "detections['num_detections'] = num_detections\n",
    "\n",
    "detections['detection_classes']=detections['detection_classes'].astype(np.int64)\n",
    "\n",
    "label_id_offset=1\n",
    "image_np_with_detections=image_np.copy()\n",
    "viz_utils.visualize_boxes_and_labels_on_image_array(\n",
    "            image_np_with_detections,\n",
    "            detections['detection_boxes'],\n",
    "            detections['detection_classes']+label_id_offset,\n",
    "            detections['detection_scores'],\n",
    "            category_index,\n",
    "            use_normalized_coordinates=True,\n",
    "            max_boxes_to_draw=5,\n",
    "            min_score_thresh=.8, #if the accuracy is above 80%, then point out\n",
    "            agnostic_mode=False)\n",
    "\n",
    "plt.imshow(cv2.cvtColor(image_np_with_detections, cv2.COLOR_BGR2RGB))\n",
    "plt.show()"
   ]
  },
  {
   "cell_type": "code",
   "execution_count": null,
   "id": "fe290852",
   "metadata": {},
   "outputs": [],
   "source": [
    "detections.keys()"
   ]
  },
  {
   "cell_type": "markdown",
   "id": "1afdd71f",
   "metadata": {},
   "source": [
    "# REAL TIME DETECTION USING WEBCAM"
   ]
  },
  {
   "cell_type": "code",
   "execution_count": null,
   "id": "8a219dec",
   "metadata": {},
   "outputs": [],
   "source": [
    "cap=cv2.VideoCapture(0)\n",
    "width=int(cap.get(cv2.CAP_PROP_FRAME_WIDTH))\n",
    "height=int(cap.get(cv2.CAP_PROP_FRAME_HEIGHT))\n",
    "\n",
    "while cap.isOpened():\n",
    "    ret, frame=cap.read()\n",
    "    image_np=np.array(frame)\n",
    "    input_tensor=tf.convert_to_tensor(np.expand_dims(image_np,0),dtype=tf.float32) #creates a TensorFlow tensor object from a NumPy array\n",
    "    detections=detect_fn(input_tensor)\n",
    "\n",
    "    num_detections=int(detections.pop('num_detections'))\n",
    "    detections={key: value[0, :num_detections].numpy()\n",
    "                  for key, value in detections.items()}\n",
    "    detections['num_detections'] = num_detections\n",
    "\n",
    "    detections['detection_classes']=detections['detection_classes'].astype(np.int64)\n",
    "\n",
    "    label_id_offset=1\n",
    "    image_np_with_detections=image_np.copy()\n",
    "    viz_utils.visualize_boxes_and_labels_on_image_array(\n",
    "            image_np_with_detections,\n",
    "            detections['detection_boxes'],\n",
    "            detections['detection_classes']+label_id_offset,\n",
    "            detections['detection_scores'],\n",
    "            category_index,\n",
    "            use_normalized_coordinates=True,\n",
    "            max_boxes_to_draw=5,\n",
    "            min_score_thresh=.8, #if the accuracy is above 80%, then point out\n",
    "            agnostic_mode=False)\n",
    "    cv2.imshow('object detection', cv2.resize(image_np_with_detections,(800,600)))\n",
    "    \n",
    "    if cv2.waitKey(1) & 0xFF == ord('q'):\n",
    "        cap.release()\n",
    "        cv2.destroyAllWindows()\n",
    "        break\n"
   ]
  },
  {
   "cell_type": "markdown",
   "id": "4cdc5b95",
   "metadata": {},
   "source": [
    "# APPLY OCR to DETECTION"
   ]
  },
  {
   "cell_type": "code",
   "execution_count": null,
   "id": "8851c216",
   "metadata": {},
   "outputs": [],
   "source": [
    "!pip install easyocr"
   ]
  },
  {
   "cell_type": "markdown",
   "id": "500a0363",
   "metadata": {},
   "source": [
    "Install pytorch for gpu acceleration"
   ]
  },
  {
   "cell_type": "code",
   "execution_count": null,
   "id": "5f81b25c",
   "metadata": {},
   "outputs": [],
   "source": [
    "!pip install torch torchvision torchaudio --index-url https://download.pytorch.org/whl/cu117"
   ]
  },
  {
   "cell_type": "code",
   "execution_count": null,
   "id": "89498b80",
   "metadata": {
    "scrolled": true
   },
   "outputs": [],
   "source": [
    "pip install chardet"
   ]
  },
  {
   "cell_type": "code",
   "execution_count": null,
   "id": "6f008455",
   "metadata": {
    "scrolled": true
   },
   "outputs": [],
   "source": [
    "pip install --force-reinstall charset-normalizer==3.1.0"
   ]
  },
  {
   "cell_type": "code",
   "execution_count": null,
   "id": "1b7625cb",
   "metadata": {},
   "outputs": [],
   "source": [
    "import easyocr "
   ]
  },
  {
   "cell_type": "code",
   "execution_count": null,
   "id": "179ceeb7",
   "metadata": {},
   "outputs": [],
   "source": [
    "detection_threshold=0.7 #70% accuracy"
   ]
  },
  {
   "cell_type": "code",
   "execution_count": null,
   "id": "9901c6d3",
   "metadata": {},
   "outputs": [],
   "source": [
    "image=image_np_with_detections #same image as above\n",
    "scores=list(filter(lambda x: x> detection_threshold, detections['detection_scores']))\n",
    "boxes=detections['detection_boxes'][:len(scores)]\n",
    "classes=detections['detection_classes'][:len(scores)]"
   ]
  },
  {
   "cell_type": "code",
   "execution_count": null,
   "id": "b323cab8",
   "metadata": {
    "scrolled": true
   },
   "outputs": [],
   "source": [
    "detections['detection_scores']"
   ]
  },
  {
   "cell_type": "code",
   "execution_count": null,
   "id": "4dc322ad",
   "metadata": {
    "scrolled": true
   },
   "outputs": [],
   "source": [
    "detections['detection_scores'] > detection_threshold"
   ]
  },
  {
   "cell_type": "code",
   "execution_count": null,
   "id": "02fb0e1e",
   "metadata": {},
   "outputs": [],
   "source": [
    "scores"
   ]
  },
  {
   "cell_type": "code",
   "execution_count": null,
   "id": "0f07f261",
   "metadata": {
    "scrolled": true
   },
   "outputs": [],
   "source": [
    "detections['detection_boxes']"
   ]
  },
  {
   "cell_type": "code",
   "execution_count": null,
   "id": "4f5581de",
   "metadata": {},
   "outputs": [],
   "source": [
    "detections['detection_classes']"
   ]
  },
  {
   "cell_type": "code",
   "execution_count": null,
   "id": "c1f444e9",
   "metadata": {},
   "outputs": [],
   "source": [
    "boxes"
   ]
  },
  {
   "cell_type": "code",
   "execution_count": null,
   "id": "c4229755",
   "metadata": {},
   "outputs": [],
   "source": [
    "width=image.shape[1]\n",
    "height=image.shape[0]"
   ]
  },
  {
   "cell_type": "code",
   "execution_count": null,
   "id": "08c7647e",
   "metadata": {
    "scrolled": false
   },
   "outputs": [],
   "source": [
    "for idx, box in enumerate(boxes):\n",
    "    roi=box*[height,width,height,width]\n",
    "    region=image[int(roi[0]):int(roi[2]),int(roi[1]):int(roi[3])]\n",
    "    reader=easyocr.Reader(['en'])\n",
    "    ocr_result=reader.readtext(region)\n",
    "    print(ocr_result)\n",
    "    plt.imshow(region)"
   ]
  },
  {
   "cell_type": "code",
   "execution_count": null,
   "id": "3997da55",
   "metadata": {},
   "outputs": [],
   "source": [
    "region_threshold=0.6"
   ]
  },
  {
   "cell_type": "code",
   "execution_count": null,
   "id": "9895354f",
   "metadata": {},
   "outputs": [],
   "source": [
    "def filter_text(region,ocr_result,region_threshold):\n",
    "    rectangle_size=region.shape[0]*region.shape[1]\n",
    "    plate=[]\n",
    "    for result in ocr_result:\n",
    "        length=np.sum(np.subtract(result[0][1],result[0][0]))\n",
    "        height=np.sum(np.subtract(result[0][2],result[0][1]))\n",
    "        \n",
    "        if length*height/rectangle_size > region_threshold:\n",
    "            plate.append(result[1])\n",
    "        \n",
    "#         print(length,height)\n",
    "    return plate"
   ]
  },
  {
   "cell_type": "code",
   "execution_count": null,
   "id": "2537779c",
   "metadata": {},
   "outputs": [],
   "source": [
    "filter_text(region,ocr_result,region_threshold)"
   ]
  },
  {
   "cell_type": "code",
   "execution_count": null,
   "id": "c620ebbb",
   "metadata": {},
   "outputs": [],
   "source": [
    "def ocr_it(image, detections, detection_threshold, region_threshold):\n",
    "    \n",
    "    # Scores, boxes and classes above threhold\n",
    "    scores = list(filter(lambda x: x> detection_threshold, detections['detection_scores']))\n",
    "    boxes = detections['detection_boxes'][:len(scores)]\n",
    "    classes = detections['detection_classes'][:len(scores)]\n",
    "    \n",
    "    # Full image dimensions\n",
    "    width = image.shape[1]\n",
    "    height = image.shape[0]\n",
    "    \n",
    "    # Apply ROI filtering and OCR\n",
    "    for idx, box in enumerate(boxes):\n",
    "        roi = box*[height, width, height, width]\n",
    "        region = image[int(roi[0]):int(roi[2]),int(roi[1]):int(roi[3])]\n",
    "        reader = easyocr.Reader(['en'])\n",
    "        ocr_result = reader.readtext(region)\n",
    "        \n",
    "        text = filter_text(region, ocr_result, region_threshold)\n",
    "        \n",
    "#         plt.imshow(cv2.cvtColor(region, cv2.COLOR_BGR2RGB))\n",
    "#         plt.show()\n",
    "        if len(text)!=0:\n",
    "            print(text)\n",
    "        return text, region"
   ]
  },
  {
   "cell_type": "code",
   "execution_count": null,
   "id": "b431b97f",
   "metadata": {},
   "outputs": [],
   "source": [
    "text, region = ocr_it(image_np_with_detections, detections, detection_threshold, region_threshold)\n"
   ]
  },
  {
   "cell_type": "markdown",
   "id": "f9e9f832",
   "metadata": {},
   "source": [
    "\n",
    "# REAL TIME DETECTION USING WEBCAM"
   ]
  },
  {
   "cell_type": "code",
   "execution_count": null,
   "id": "6fcaa53e",
   "metadata": {},
   "outputs": [],
   "source": [
    "import cv2"
   ]
  },
  {
   "cell_type": "code",
   "execution_count": null,
   "id": "656c1cf0",
   "metadata": {},
   "outputs": [],
   "source": [
    "pip install opencv-python --upgrade"
   ]
  },
  {
   "cell_type": "code",
   "execution_count": null,
   "id": "c044ba55",
   "metadata": {},
   "outputs": [],
   "source": [
    "import cv2\n"
   ]
  },
  {
   "cell_type": "code",
   "execution_count": null,
   "id": "818454ed",
   "metadata": {
    "scrolled": false
   },
   "outputs": [],
   "source": [
    "cap=cv2.VideoCapture(0)\n",
    "width=int(cap.get(cv2.CAP_PROP_FRAME_WIDTH))\n",
    "height=int(cap.get(cv2.CAP_PROP_FRAME_HEIGHT))\n",
    "\n",
    "while cap.isOpened():\n",
    "    ret, frame=cap.read()\n",
    "    image_np=np.array(frame)\n",
    "    input_tensor=tf.convert_to_tensor(np.expand_dims(image_np,0),dtype=tf.float32) #creates a TensorFlow tensor object from a NumPy array\n",
    "    detections=detect_fn(input_tensor)\n",
    "\n",
    "    num_detections=int(detections.pop('num_detections'))\n",
    "    detections={key: value[0, :num_detections].numpy()\n",
    "                  for key, value in detections.items()}\n",
    "    detections['num_detections'] = num_detections\n",
    "\n",
    "    detections['detection_classes']=detections['detection_classes'].astype(np.int64)\n",
    "\n",
    "    label_id_offset=1\n",
    "    image_np_with_detections=image_np.copy()\n",
    "#     viz_utils.visualize_boxes_and_labels_on_image_array(\n",
    "#             image_np_with_detections,\n",
    "#             detections['detection_boxes'],\n",
    "#             detections['detection_classes']+label_id_offset,\n",
    "#             detections['detection_scores'],\n",
    "#             category_index,\n",
    "#             use_normalized_coordinates=True,\n",
    "#             max_boxes_to_draw=5,\n",
    "#             min_score_thresh=.8, #if the accuracy is above 80%, then point out\n",
    "#             agnostic_mode=False)\n",
    "    \n",
    "    try:\n",
    "        text, region = ocr_it(image_np_with_detections, detections, detection_threshold, region_threshold)\n",
    "    except:\n",
    "        pass\n",
    "    \n",
    "    cv2.imshow('object detection', cv2.resize(image_np_with_detections,(800,600)))\n",
    "\n",
    "    \n",
    "    if cv2.waitKey(10) & 0xFF == ord('q'):\n",
    "        break\n",
    "cap.release()\n",
    "cv2.destroyAllWindows()"
   ]
  },
  {
   "cell_type": "code",
   "execution_count": null,
   "id": "81108031",
   "metadata": {},
   "outputs": [],
   "source": []
  }
 ],
 "metadata": {
  "kernelspec": {
   "display_name": "anpr",
   "language": "python",
   "name": "anpr"
  },
  "language_info": {
   "codemirror_mode": {
    "name": "ipython",
    "version": 3
   },
   "file_extension": ".py",
   "mimetype": "text/x-python",
   "name": "python",
   "nbconvert_exporter": "python",
   "pygments_lexer": "ipython3",
   "version": "3.9.16"
  }
 },
 "nbformat": 4,
 "nbformat_minor": 5
}
